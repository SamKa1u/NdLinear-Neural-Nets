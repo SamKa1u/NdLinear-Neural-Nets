{
 "nbformat": 4,
 "nbformat_minor": 0,
 "metadata": {
  "colab": {
   "provenance": [],
   "gpuType": "V28"
  },
  "kernelspec": {
   "name": "python3",
   "display_name": "Python 3 (ipykernel)",
   "language": "python"
  },
  "language_info": {
   "name": "python"
  },
  "accelerator": "TPU"
 },
 "cells": [
  {
   "cell_type": "code",
   "execution_count": 3,
   "metadata": {
    "colab": {
     "base_uri": "https://localhost:8080/"
    },
    "id": "Bv9H46bSAhPf",
    "outputId": "2f37c14e-90fb-4138-d010-2900d149a827"
   },
   "outputs": [
    {
     "output_type": "stream",
     "name": "stdout",
     "text": [
      "Collecting ndlinear\n",
      "  Downloading ndlinear-1.0.0-py3-none-any.whl.metadata (6.0 kB)\n",
      "Requirement already satisfied: torch>=2.3.0 in /usr/local/lib/python3.11/dist-packages (from ndlinear) (2.6.0+cu124)\n",
      "Requirement already satisfied: numpy>=1.24.3 in /usr/local/lib/python3.11/dist-packages (from ndlinear) (2.0.2)\n",
      "Requirement already satisfied: filelock in /usr/local/lib/python3.11/dist-packages (from torch>=2.3.0->ndlinear) (3.18.0)\n",
      "Requirement already satisfied: typing-extensions>=4.10.0 in /usr/local/lib/python3.11/dist-packages (from torch>=2.3.0->ndlinear) (4.13.2)\n",
      "Requirement already satisfied: networkx in /usr/local/lib/python3.11/dist-packages (from torch>=2.3.0->ndlinear) (3.4.2)\n",
      "Requirement already satisfied: jinja2 in /usr/local/lib/python3.11/dist-packages (from torch>=2.3.0->ndlinear) (3.1.6)\n",
      "Requirement already satisfied: fsspec in /usr/local/lib/python3.11/dist-packages (from torch>=2.3.0->ndlinear) (2025.3.2)\n",
      "Collecting nvidia-cuda-nvrtc-cu12==12.4.127 (from torch>=2.3.0->ndlinear)\n",
      "  Downloading nvidia_cuda_nvrtc_cu12-12.4.127-py3-none-manylinux2014_x86_64.whl.metadata (1.5 kB)\n",
      "Collecting nvidia-cuda-runtime-cu12==12.4.127 (from torch>=2.3.0->ndlinear)\n",
      "  Downloading nvidia_cuda_runtime_cu12-12.4.127-py3-none-manylinux2014_x86_64.whl.metadata (1.5 kB)\n",
      "Collecting nvidia-cuda-cupti-cu12==12.4.127 (from torch>=2.3.0->ndlinear)\n",
      "  Downloading nvidia_cuda_cupti_cu12-12.4.127-py3-none-manylinux2014_x86_64.whl.metadata (1.6 kB)\n",
      "Collecting nvidia-cudnn-cu12==9.1.0.70 (from torch>=2.3.0->ndlinear)\n",
      "  Downloading nvidia_cudnn_cu12-9.1.0.70-py3-none-manylinux2014_x86_64.whl.metadata (1.6 kB)\n",
      "Collecting nvidia-cublas-cu12==12.4.5.8 (from torch>=2.3.0->ndlinear)\n",
      "  Downloading nvidia_cublas_cu12-12.4.5.8-py3-none-manylinux2014_x86_64.whl.metadata (1.5 kB)\n",
      "Collecting nvidia-cufft-cu12==11.2.1.3 (from torch>=2.3.0->ndlinear)\n",
      "  Downloading nvidia_cufft_cu12-11.2.1.3-py3-none-manylinux2014_x86_64.whl.metadata (1.5 kB)\n",
      "Collecting nvidia-curand-cu12==10.3.5.147 (from torch>=2.3.0->ndlinear)\n",
      "  Downloading nvidia_curand_cu12-10.3.5.147-py3-none-manylinux2014_x86_64.whl.metadata (1.5 kB)\n",
      "Collecting nvidia-cusolver-cu12==11.6.1.9 (from torch>=2.3.0->ndlinear)\n",
      "  Downloading nvidia_cusolver_cu12-11.6.1.9-py3-none-manylinux2014_x86_64.whl.metadata (1.6 kB)\n",
      "Collecting nvidia-cusparse-cu12==12.3.1.170 (from torch>=2.3.0->ndlinear)\n",
      "  Downloading nvidia_cusparse_cu12-12.3.1.170-py3-none-manylinux2014_x86_64.whl.metadata (1.6 kB)\n",
      "Requirement already satisfied: nvidia-cusparselt-cu12==0.6.2 in /usr/local/lib/python3.11/dist-packages (from torch>=2.3.0->ndlinear) (0.6.2)\n",
      "Requirement already satisfied: nvidia-nccl-cu12==2.21.5 in /usr/local/lib/python3.11/dist-packages (from torch>=2.3.0->ndlinear) (2.21.5)\n",
      "Requirement already satisfied: nvidia-nvtx-cu12==12.4.127 in /usr/local/lib/python3.11/dist-packages (from torch>=2.3.0->ndlinear) (12.4.127)\n",
      "Collecting nvidia-nvjitlink-cu12==12.4.127 (from torch>=2.3.0->ndlinear)\n",
      "  Downloading nvidia_nvjitlink_cu12-12.4.127-py3-none-manylinux2014_x86_64.whl.metadata (1.5 kB)\n",
      "Requirement already satisfied: triton==3.2.0 in /usr/local/lib/python3.11/dist-packages (from torch>=2.3.0->ndlinear) (3.2.0)\n",
      "Requirement already satisfied: sympy==1.13.1 in /usr/local/lib/python3.11/dist-packages (from torch>=2.3.0->ndlinear) (1.13.1)\n",
      "Requirement already satisfied: mpmath<1.4,>=1.1.0 in /usr/local/lib/python3.11/dist-packages (from sympy==1.13.1->torch>=2.3.0->ndlinear) (1.3.0)\n",
      "Requirement already satisfied: MarkupSafe>=2.0 in /usr/local/lib/python3.11/dist-packages (from jinja2->torch>=2.3.0->ndlinear) (3.0.2)\n",
      "Downloading ndlinear-1.0.0-py3-none-any.whl (9.0 kB)\n",
      "Downloading nvidia_cublas_cu12-12.4.5.8-py3-none-manylinux2014_x86_64.whl (363.4 MB)\n",
      "\u001B[2K   \u001B[90m━━━━━━━━━━━━━━━━━━━━━━━━━━━━━━━━━━━━━━━━\u001B[0m \u001B[32m363.4/363.4 MB\u001B[0m \u001B[31m1.5 MB/s\u001B[0m eta \u001B[36m0:00:00\u001B[0m\n",
      "\u001B[?25hDownloading nvidia_cuda_cupti_cu12-12.4.127-py3-none-manylinux2014_x86_64.whl (13.8 MB)\n",
      "\u001B[2K   \u001B[90m━━━━━━━━━━━━━━━━━━━━━━━━━━━━━━━━━━━━━━━━\u001B[0m \u001B[32m13.8/13.8 MB\u001B[0m \u001B[31m67.2 MB/s\u001B[0m eta \u001B[36m0:00:00\u001B[0m\n",
      "\u001B[?25hDownloading nvidia_cuda_nvrtc_cu12-12.4.127-py3-none-manylinux2014_x86_64.whl (24.6 MB)\n",
      "\u001B[2K   \u001B[90m━━━━━━━━━━━━━━━━━━━━━━━━━━━━━━━━━━━━━━━━\u001B[0m \u001B[32m24.6/24.6 MB\u001B[0m \u001B[31m22.2 MB/s\u001B[0m eta \u001B[36m0:00:00\u001B[0m\n",
      "\u001B[?25hDownloading nvidia_cuda_runtime_cu12-12.4.127-py3-none-manylinux2014_x86_64.whl (883 kB)\n",
      "\u001B[2K   \u001B[90m━━━━━━━━━━━━━━━━━━━━━━━━━━━━━━━━━━━━━━━━\u001B[0m \u001B[32m883.7/883.7 kB\u001B[0m \u001B[31m33.6 MB/s\u001B[0m eta \u001B[36m0:00:00\u001B[0m\n",
      "\u001B[?25hDownloading nvidia_cudnn_cu12-9.1.0.70-py3-none-manylinux2014_x86_64.whl (664.8 MB)\n",
      "\u001B[2K   \u001B[90m━━━━━━━━━━━━━━━━━━━━━━━━━━━━━━━━━━━━━━━━\u001B[0m \u001B[32m664.8/664.8 MB\u001B[0m \u001B[31m1.3 MB/s\u001B[0m eta \u001B[36m0:00:00\u001B[0m\n",
      "\u001B[?25hDownloading nvidia_cufft_cu12-11.2.1.3-py3-none-manylinux2014_x86_64.whl (211.5 MB)\n",
      "\u001B[2K   \u001B[90m━━━━━━━━━━━━━━━━━━━━━━━━━━━━━━━━━━━━━━━━\u001B[0m \u001B[32m211.5/211.5 MB\u001B[0m \u001B[31m5.5 MB/s\u001B[0m eta \u001B[36m0:00:00\u001B[0m\n",
      "\u001B[?25hDownloading nvidia_curand_cu12-10.3.5.147-py3-none-manylinux2014_x86_64.whl (56.3 MB)\n",
      "\u001B[2K   \u001B[90m━━━━━━━━━━━━━━━━━━━━━━━━━━━━━━━━━━━━━━━━\u001B[0m \u001B[32m56.3/56.3 MB\u001B[0m \u001B[31m12.3 MB/s\u001B[0m eta \u001B[36m0:00:00\u001B[0m\n",
      "\u001B[?25hDownloading nvidia_cusolver_cu12-11.6.1.9-py3-none-manylinux2014_x86_64.whl (127.9 MB)\n",
      "\u001B[2K   \u001B[90m━━━━━━━━━━━━━━━━━━━━━━━━━━━━━━━━━━━━━━━━\u001B[0m \u001B[32m127.9/127.9 MB\u001B[0m \u001B[31m7.5 MB/s\u001B[0m eta \u001B[36m0:00:00\u001B[0m\n",
      "\u001B[?25hDownloading nvidia_cusparse_cu12-12.3.1.170-py3-none-manylinux2014_x86_64.whl (207.5 MB)\n",
      "\u001B[2K   \u001B[90m━━━━━━━━━━━━━━━━━━━━━━━━━━━━━━━━━━━━━━━━\u001B[0m \u001B[32m207.5/207.5 MB\u001B[0m \u001B[31m6.0 MB/s\u001B[0m eta \u001B[36m0:00:00\u001B[0m\n",
      "\u001B[?25hDownloading nvidia_nvjitlink_cu12-12.4.127-py3-none-manylinux2014_x86_64.whl (21.1 MB)\n",
      "\u001B[2K   \u001B[90m━━━━━━━━━━━━━━━━━━━━━━━━━━━━━━━━━━━━━━━━\u001B[0m \u001B[32m21.1/21.1 MB\u001B[0m \u001B[31m65.1 MB/s\u001B[0m eta \u001B[36m0:00:00\u001B[0m\n",
      "\u001B[?25hInstalling collected packages: nvidia-nvjitlink-cu12, nvidia-curand-cu12, nvidia-cufft-cu12, nvidia-cuda-runtime-cu12, nvidia-cuda-nvrtc-cu12, nvidia-cuda-cupti-cu12, nvidia-cublas-cu12, nvidia-cusparse-cu12, nvidia-cudnn-cu12, nvidia-cusolver-cu12, ndlinear\n",
      "  Attempting uninstall: nvidia-nvjitlink-cu12\n",
      "    Found existing installation: nvidia-nvjitlink-cu12 12.5.82\n",
      "    Uninstalling nvidia-nvjitlink-cu12-12.5.82:\n",
      "      Successfully uninstalled nvidia-nvjitlink-cu12-12.5.82\n",
      "  Attempting uninstall: nvidia-curand-cu12\n",
      "    Found existing installation: nvidia-curand-cu12 10.3.6.82\n",
      "    Uninstalling nvidia-curand-cu12-10.3.6.82:\n",
      "      Successfully uninstalled nvidia-curand-cu12-10.3.6.82\n",
      "  Attempting uninstall: nvidia-cufft-cu12\n",
      "    Found existing installation: nvidia-cufft-cu12 11.2.3.61\n",
      "    Uninstalling nvidia-cufft-cu12-11.2.3.61:\n",
      "      Successfully uninstalled nvidia-cufft-cu12-11.2.3.61\n",
      "  Attempting uninstall: nvidia-cuda-runtime-cu12\n",
      "    Found existing installation: nvidia-cuda-runtime-cu12 12.5.82\n",
      "    Uninstalling nvidia-cuda-runtime-cu12-12.5.82:\n",
      "      Successfully uninstalled nvidia-cuda-runtime-cu12-12.5.82\n",
      "  Attempting uninstall: nvidia-cuda-nvrtc-cu12\n",
      "    Found existing installation: nvidia-cuda-nvrtc-cu12 12.5.82\n",
      "    Uninstalling nvidia-cuda-nvrtc-cu12-12.5.82:\n",
      "      Successfully uninstalled nvidia-cuda-nvrtc-cu12-12.5.82\n",
      "  Attempting uninstall: nvidia-cuda-cupti-cu12\n",
      "    Found existing installation: nvidia-cuda-cupti-cu12 12.5.82\n",
      "    Uninstalling nvidia-cuda-cupti-cu12-12.5.82:\n",
      "      Successfully uninstalled nvidia-cuda-cupti-cu12-12.5.82\n",
      "  Attempting uninstall: nvidia-cublas-cu12\n",
      "    Found existing installation: nvidia-cublas-cu12 12.5.3.2\n",
      "    Uninstalling nvidia-cublas-cu12-12.5.3.2:\n",
      "      Successfully uninstalled nvidia-cublas-cu12-12.5.3.2\n",
      "  Attempting uninstall: nvidia-cusparse-cu12\n",
      "    Found existing installation: nvidia-cusparse-cu12 12.5.1.3\n",
      "    Uninstalling nvidia-cusparse-cu12-12.5.1.3:\n",
      "      Successfully uninstalled nvidia-cusparse-cu12-12.5.1.3\n",
      "  Attempting uninstall: nvidia-cudnn-cu12\n",
      "    Found existing installation: nvidia-cudnn-cu12 9.3.0.75\n",
      "    Uninstalling nvidia-cudnn-cu12-9.3.0.75:\n",
      "      Successfully uninstalled nvidia-cudnn-cu12-9.3.0.75\n",
      "  Attempting uninstall: nvidia-cusolver-cu12\n",
      "    Found existing installation: nvidia-cusolver-cu12 11.6.3.83\n",
      "    Uninstalling nvidia-cusolver-cu12-11.6.3.83:\n",
      "      Successfully uninstalled nvidia-cusolver-cu12-11.6.3.83\n",
      "Successfully installed ndlinear-1.0.0 nvidia-cublas-cu12-12.4.5.8 nvidia-cuda-cupti-cu12-12.4.127 nvidia-cuda-nvrtc-cu12-12.4.127 nvidia-cuda-runtime-cu12-12.4.127 nvidia-cudnn-cu12-9.1.0.70 nvidia-cufft-cu12-11.2.1.3 nvidia-curand-cu12-10.3.5.147 nvidia-cusolver-cu12-11.6.1.9 nvidia-cusparse-cu12-12.3.1.170 nvidia-nvjitlink-cu12-12.4.127\n"
     ]
    }
   ],
   "source": [
    "!pip install ndlinear"
   ]
  },
  {
   "cell_type": "code",
   "source": [
    "%matplotlib inline\n",
    "\n",
    "import torch\n",
    "from torch import nn\n",
    "from torch.utils.data import DataLoader\n",
    "from torchvision import datasets\n",
    "from torchvision.transforms import ToTensor\n",
    "import numpy as np\n",
    "from ndlinear import NdLinear\n",
    "import matplotlib.pyplot as plt\n",
    "\n",
    "print('Using PyTorch version:', torch.__version__)\n",
    "if torch.cuda.is_available():\n",
    "    print('Using GPU, device name:', torch.cuda.get_device_name(0))\n",
    "    device = torch.device('cuda')\n",
    "else:\n",
    "    print('No GPU found, using CPU instead.')\n",
    "    device = torch.device('cpu')"
   ],
   "metadata": {
    "colab": {
     "base_uri": "https://localhost:8080/"
    },
    "id": "H_m-Q74AAv8r",
    "outputId": "b1869cb7-0e8b-400c-e01e-1db25d8670df",
    "ExecuteTime": {
     "end_time": "2025-04-21T11:31:43.351277Z",
     "start_time": "2025-04-21T11:31:28.794261Z"
    }
   },
   "outputs": [
    {
     "name": "stdout",
     "output_type": "stream",
     "text": [
      "Using PyTorch version: 2.6.0+cpu\n",
      "No GPU found, using CPU instead.\n"
     ]
    }
   ],
   "execution_count": 1
  },
  {
   "cell_type": "code",
   "source": [
    "batch_size = 10\n",
    "data_dir = './data'\n",
    "train_dataset = datasets.MNIST(data_dir, train=True, download=True, transform=ToTensor())\n",
    "test_dataset = datasets.MNIST(data_dir, train=False, transform=ToTensor())\n",
    "\n",
    "train_loader = DataLoader(dataset=train_dataset, batch_size=batch_size, shuffle=True)\n",
    "test_loader = DataLoader(dataset=test_dataset, batch_size=batch_size, shuffle=False)"
   ],
   "metadata": {
    "colab": {
     "base_uri": "https://localhost:8080/"
    },
    "id": "PDtVxfMkAkEo",
    "outputId": "62eac46f-c155-47b8-d78a-8bbb15bda66b",
    "ExecuteTime": {
     "end_time": "2025-04-21T11:32:23.608832Z",
     "start_time": "2025-04-21T11:32:04.937885Z"
    }
   },
   "outputs": [
    {
     "name": "stderr",
     "output_type": "stream",
     "text": [
      "100.0%\n",
      "100.0%\n",
      "100.0%\n",
      "100.0%\n"
     ]
    }
   ],
   "execution_count": 2
  },
  {
   "cell_type": "code",
   "source": [
    "for (Input, Label) in train_loader:\n",
    "  print('data:', Input.size(), 'type', Input.type())\n",
    "  print('label:', Label.size(), 'type', Label.type())\n",
    "  break"
   ],
   "metadata": {
    "colab": {
     "base_uri": "https://localhost:8080/"
    },
    "id": "2szMnDwNet6W",
    "outputId": "d1230c71-a09a-4eb4-d181-d129b3b9a9b5",
    "ExecuteTime": {
     "end_time": "2025-04-21T11:32:46.253754Z",
     "start_time": "2025-04-21T11:32:46.113602Z"
    }
   },
   "outputs": [
    {
     "name": "stdout",
     "output_type": "stream",
     "text": [
      "data: torch.Size([10, 1, 28, 28]) type torch.FloatTensor\n",
      "label: torch.Size([10]) type torch.LongTensor\n"
     ]
    }
   ],
   "execution_count": 3
  },
  {
   "cell_type": "code",
   "source": [
    "pltsize = 1\n",
    "plt.figure(figsize=(10*pltsize, pltsize))\n",
    "\n",
    "for i in range(10):\n",
    "  plt.subplot(1,10,i+1)\n",
    "  plt.axis('off')\n",
    "  plt.imshow(Input[i,:,:,:].numpy().reshape(28,28), cmap ='gray_r')\n",
    "  plt.title('Class: '+str(Label[i].item()))"
   ],
   "metadata": {
    "colab": {
     "base_uri": "https://localhost:8080/",
     "height": 125
    },
    "id": "-pQ_3ZiMfrMo",
    "outputId": "872cfafa-0e54-4978-ab30-e7aa81234711",
    "ExecuteTime": {
     "end_time": "2025-04-21T11:32:55.974052Z",
     "start_time": "2025-04-21T11:32:55.119622Z"
    }
   },
   "outputs": [
    {
     "data": {
      "text/plain": [
       "<Figure size 1000x100 with 10 Axes>"
      ],
      "image/png": "[encoded data removed]"
     },
     "metadata": {},
     "output_type": "display_data"
    }
   ],
   "execution_count": 4
  },
  {
   "cell_type": "code",
   "source": [
    "class NdLinearMLP(nn.Module):\n",
    "    def __init__(self):\n",
    "        super().__init__()\n",
    "        self.layers = nn.Sequential(\n",
    "            nn.Flatten(),\n",
    "            NdLinear(input_dims=(784,), hidden_size=(20,)),\n",
    "            nn.ReLU(),\n",
    "            NdLinear(input_dims=(20,), hidden_size=(10,)),\n",
    "        )\n",
    "\n",
    "    def forward(self, x):\n",
    "        return self.layers(x)\n"
   ],
   "metadata": {
    "id": "kVVyurc6Cf2q",
    "ExecuteTime": {
     "end_time": "2025-04-21T11:33:22.355997Z",
     "start_time": "2025-04-21T11:33:22.338937Z"
    }
   },
   "outputs": [],
   "execution_count": 5
  },
  {
   "cell_type": "code",
   "source": [
    "mlp = NdLinearMLP().to(device)\n",
    "\n",
    "loss_fn = nn.CrossEntropyLoss()\n",
    "optimizer = torch.optim.Adam(mlp.parameters(), lr=0.001)"
   ],
   "metadata": {
    "id": "A8yP_zDtCzUB",
    "ExecuteTime": {
     "end_time": "2025-04-21T11:33:28.842888Z",
     "start_time": "2025-04-21T11:33:28.811579Z"
    }
   },
   "outputs": [],
   "execution_count": 6
  },
  {
   "cell_type": "code",
   "source": [
    "def correct(output, label):\n",
    "  predicted_labels = output.argmax(1)\n",
    "  correct_ones = (predicted_labels == label).type(torch.float)\n",
    "  return correct_ones.sum().item()"
   ],
   "metadata": {
    "id": "35M5iOv7g7kr",
    "ExecuteTime": {
     "end_time": "2025-04-21T11:33:33.887880Z",
     "start_time": "2025-04-21T11:33:33.876840Z"
    }
   },
   "outputs": [],
   "execution_count": 7
  },
  {
   "cell_type": "code",
   "source": [
    "def train(data_loader, model, criterion, optimizer):\n",
    "  model.train()\n",
    "\n",
    "  num_batches = len(data_loader)\n",
    "  num_items = len(data_loader.dataset)\n",
    "\n",
    "  total_loss = 0\n",
    "  total_correct = 0\n",
    "  for input, label in data_loader:\n",
    "    #Copy to GPU\n",
    "    input = input.to(device)\n",
    "    label = label.to(device)\n",
    "    #forward pass\n",
    "    output = model(input)\n",
    "\n",
    "    #calculate the loss\n",
    "    loss = criterion(output, label)\n",
    "    total_loss += loss\n",
    "\n",
    "    #count number of correct\n",
    "    total_correct += correct(output, label)\n",
    "\n",
    "    #backprop\n",
    "    loss.backward()\n",
    "    optimizer.step()\n",
    "    optimizer.zero_grad()\n",
    "\n",
    "  train_loss = total_loss/num_batches\n",
    "  accuracy = total_correct/num_items\n",
    "  print(f'Average loss: {train_loss:7f}, accuracy: {accuracy:.2%}')"
   ],
   "metadata": {
    "id": "OOKFcWDtC3mI",
    "ExecuteTime": {
     "end_time": "2025-04-21T11:33:36.911862Z",
     "start_time": "2025-04-21T11:33:36.895363Z"
    }
   },
   "outputs": [],
   "execution_count": 8
  },
  {
   "cell_type": "code",
   "source": [
    "%%time\n",
    "\n",
    "epochs = 10\n",
    "for epoch in range(epochs):\n",
    "  print(f'Training epoch: {epoch+1}')\n",
    "  train(train_loader, mlp, loss_fn, optimizer)"
   ],
   "metadata": {
    "colab": {
     "base_uri": "https://localhost:8080/"
    },
    "id": "u05S_zCVjX5a",
    "outputId": "61e4b5a8-5650-4c54-df82-de2b42c7565e",
    "ExecuteTime": {
     "end_time": "2025-04-21T11:37:23.852703Z",
     "start_time": "2025-04-21T11:33:45.799182Z"
    }
   },
   "outputs": [
    {
     "name": "stdout",
     "output_type": "stream",
     "text": [
      "Training epoch: 1\n",
      "Average loss: 0.365543, accuracy: 89.87%\n",
      "Training epoch: 2\n",
      "Average loss: 0.213758, accuracy: 93.88%\n",
      "Training epoch: 3\n",
      "Average loss: 0.177022, accuracy: 94.93%\n",
      "Training epoch: 4\n",
      "Average loss: 0.157042, accuracy: 95.41%\n",
      "Training epoch: 5\n",
      "Average loss: 0.145789, accuracy: 95.76%\n",
      "Training epoch: 6\n",
      "Average loss: 0.135981, accuracy: 96.02%\n",
      "Training epoch: 7\n",
      "Average loss: 0.129457, accuracy: 96.14%\n",
      "Training epoch: 8\n",
      "Average loss: 0.124626, accuracy: 96.33%\n",
      "Training epoch: 9\n",
      "Average loss: 0.120878, accuracy: 96.39%\n",
      "Training epoch: 10\n",
      "Average loss: 0.116975, accuracy: 96.50%\n",
      "CPU times: total: 7min 9s\n",
      "Wall time: 3min 38s\n"
     ]
    }
   ],
   "execution_count": 9
  },
  {
   "cell_type": "code",
   "source": [
    "def evaluate(test_loader, model, criterion):\n",
    "  mlp.eval()\n",
    "\n",
    "  num_batches = len(test_loader)\n",
    "  num_items = len(test_loader.dataset)\n",
    "\n",
    "  test_loss = 0\n",
    "  total_correct = 0\n",
    "\n",
    "  with torch.no_grad():\n",
    "    for input, label in test_loader:\n",
    "      #Copy to GPU\n",
    "      input = input.to(device)\n",
    "      label = label.to(device)\n",
    "\n",
    "      #forward pass\n",
    "      output = model(input)\n",
    "\n",
    "      #calculate loss\n",
    "      loss = criterion(output, label)\n",
    "      test_loss += loss.item()\n",
    "\n",
    "      #Count correct digits\n",
    "      total_correct += correct(output, label)\n",
    "\n",
    "  test_loss = test_loss/num_batches\n",
    "  accuracy = total_correct/num_items\n",
    "\n",
    "  print(f\"Testset accuracy: {100*accuracy:>0.1f}%, average loss: {test_loss:>7f}\")\n",
    "\n",
    "def test_predict(data_loader, model):\n",
    "  for (input, label) in train_loader:\n",
    "    break\n",
    "\n",
    "  pltsize = 1\n",
    "  plt.figure(figsize=(10*pltsize, pltsize))\n",
    "\n",
    "  for i in range(1):\n",
    "    plt.subplot(1,10,i+1)\n",
    "    plt.axis('off')\n",
    "    output = model(input[i,:,:,:])\n",
    "    plt.imshow(input[i,:,:,:].numpy().reshape(28,28), cmap ='gray_r')\n",
    "    predict = output.argmax(1).tolist()\n",
    "    predict = predict[0]\n",
    "    plt.title(f'Actual: {str(label[i].item())}, Prediction: {str(predict)}')"
   ],
   "metadata": {
    "id": "iI1OQ1LHC-nE",
    "ExecuteTime": {
     "end_time": "2025-04-21T11:37:39.349494Z",
     "start_time": "2025-04-21T11:37:39.325086Z"
    }
   },
   "outputs": [],
   "execution_count": 10
  },
  {
   "cell_type": "code",
   "source": [
    "evaluate(test_loader, mlp, loss_fn)"
   ],
   "metadata": {
    "colab": {
     "base_uri": "https://localhost:8080/"
    },
    "id": "BmCP6RMqlG1h",
    "outputId": "7a07e0f7-ee6d-4eae-b052-e245a408523d",
    "ExecuteTime": {
     "end_time": "2025-04-21T11:37:49.480814Z",
     "start_time": "2025-04-21T11:37:46.989911Z"
    }
   },
   "outputs": [
    {
     "name": "stdout",
     "output_type": "stream",
     "text": [
      "Testset accuracy: 95.1%, average loss: 0.161002\n"
     ]
    }
   ],
   "execution_count": 11
  },
  {
   "cell_type": "code",
   "source": [
    "test_predict(test_loader, mlp)"
   ],
   "metadata": {
    "colab": {
     "base_uri": "https://localhost:8080/",
     "height": 125
    },
    "id": "OQV7D98M3xvq",
    "outputId": "110c4147-0a71-4ed8-bd15-91fb9aabd646",
    "ExecuteTime": {
     "end_time": "2025-04-21T11:38:49.524463Z",
     "start_time": "2025-04-21T11:38:49.381544Z"
    }
   },
   "outputs": [
    {
     "data": {
      "text/plain": [
       "<Figure size 1000x100 with 1 Axes>"
      ],
      "image/png": "[encoded data removed]"
     },
     "metadata": {},
     "output_type": "display_data"
    }
   ],
   "execution_count": 57
  }
 ]
}
